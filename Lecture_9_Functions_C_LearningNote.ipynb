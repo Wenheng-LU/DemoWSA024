{
  "cells": [
    {
      "cell_type": "markdown",
      "metadata": {
        "id": "view-in-github",
        "colab_type": "text"
      },
      "source": [
        "<a href=\"https://colab.research.google.com/github/Wenheng-LU/DemoWSA024/blob/main/Lecture_9_Functions_C_LearningNote.ipynb\" target=\"_parent\"><img src=\"https://colab.research.google.com/assets/colab-badge.svg\" alt=\"Open In Colab\"/></a>"
      ]
    },
    {
      "cell_type": "markdown",
      "id": "9b905404",
      "metadata": {
        "id": "9b905404"
      },
      "source": [
        "# Lecture 9: Functions in C\n",
        "\n",
        "Welcome to this interactive notebook on **Functions in C**.\n",
        "This notebook is based on the lecture slides and allows you to **write, compile, and run C programs interactively**.\n",
        "\n",
        "## Topics Covered:\n",
        "1. Function Prototypes and Syntax\n",
        "2. Function Return Behavior\n",
        "3. Global and Local Variables\n",
        "4. Defining Your Own Functions\n",
        "5. Formatting Numeric Output\n",
        "\n",
        "\n",
        "Each section includes explanations, code examples, and exercises for you to try.\n",
        "\n",
        "To run a C program, follow these steps:\n",
        "1. Run the code cell to write the C program to a file using `%%writefile`.\n",
        "2. Compile it using `!gcc filename.c`.\n",
        "3. Execute the program using `!./a.out`.\n"
      ]
    },
    {
      "cell_type": "markdown",
      "id": "b97d2c15",
      "metadata": {
        "id": "b97d2c15"
      },
      "source": [
        "##1. Function Prototypes and Syntax\n",
        "\n",
        "A function prototype tells the compiler about the function before it is used. This prevents errors due to calling functions that have not been defined yet.\n",
        "\n",
        "###**A function prototype**\n",
        "\n",
        "```c\n",
        "return-value-type function_name(parameter-list);\n",
        "```\n",
        "\n",
        "### **Syntax of a Function**\n",
        "\n",
        "```c\n",
        "return-value-type function_name(parameter-list)\n",
        "{//Declaration of local variables\n",
        " //statements\n",
        "\n",
        " return return_value;\n",
        "}\n",
        "```\n",
        "\n",
        "### **Example**\n",
        "```c\n",
        "int add(int variable1, int variable2){\n",
        "  int sum=variable1+variable2;\n",
        "return sum;\n",
        "}\n",
        "```\n",
        "This tells the compiler that a function named `add` will take two `int` parameters and return an `int`.\n",
        "\n"
      ]
    },
    {
      "cell_type": "markdown",
      "source": [
        "### **Example Program** Using Colab to run C Programming\n"
      ],
      "metadata": {
        "id": "JbKGShnG7GRO"
      },
      "id": "JbKGShnG7GRO"
    },
    {
      "cell_type": "code",
      "source": [
        "%lsmagic"
      ],
      "metadata": {
        "id": "LngZxsGC2Lc4"
      },
      "id": "LngZxsGC2Lc4",
      "execution_count": null,
      "outputs": []
    },
    {
      "cell_type": "code",
      "execution_count": 37,
      "id": "be089ae2",
      "metadata": {
        "colab": {
          "base_uri": "https://localhost:8080/"
        },
        "id": "be089ae2",
        "outputId": "6178ea7f-771f-4123-f185-4952d4152d2f"
      },
      "outputs": [
        {
          "output_type": "stream",
          "name": "stdout",
          "text": [
            "Overwriting function_prototype.c\n"
          ]
        }
      ],
      "source": [
        "%%writefile function_prototype.c\n",
        "#include <stdio.h>\n",
        "\n",
        "// Function prototype\n",
        "int add(int x, int y);\n",
        "\n",
        "int main() {\n",
        "    int a = 3, b = 7;\n",
        "    printf(\"Sum: %d\\n\", add(a, b));\n",
        "    return 0;\n",
        "}\n",
        "\n",
        "// Function definition\n",
        "int add(int x, int y) {\n",
        "    return x + y;\n",
        "}\n"
      ]
    },
    {
      "cell_type": "code",
      "execution_count": 38,
      "id": "6ff7a15b",
      "metadata": {
        "colab": {
          "base_uri": "https://localhost:8080/"
        },
        "id": "6ff7a15b",
        "outputId": "b5346b54-0930-4624-c4c2-a60376d20196"
      },
      "outputs": [
        {
          "output_type": "stream",
          "name": "stdout",
          "text": [
            "Sum: 10\n"
          ]
        }
      ],
      "source": [
        "!gcc function_prototype.c\n",
        "\n",
        "!./a.out"
      ]
    },
    {
      "cell_type": "markdown",
      "source": [
        "## 2. Function Return Behavior\n",
        "\n",
        "### **Returning from a function**\n",
        "A function may return a value using `return the_result;`. If it does not return anything, it ends when it reaches `}` or `return;`.\n",
        "\n",
        "### **Returning from `main()`**\n",
        "- `return 0;` → Indicates successful execution.\n",
        "- `return 1;` (or other values) → Indicates an error.\n",
        "\n"
      ],
      "metadata": {
        "id": "hzHZTZWo9dbN"
      },
      "id": "hzHZTZWo9dbN"
    },
    {
      "cell_type": "markdown",
      "source": [
        "### **Example: void type function without return any value**"
      ],
      "metadata": {
        "id": "NfhkAB9K9iJE"
      },
      "id": "NfhkAB9K9iJE"
    },
    {
      "cell_type": "code",
      "source": [
        "%%writefile return_behavior.c\n",
        "#include <stdio.h>\n",
        "\n",
        "void printMessage() {\n",
        "    printf(\"This function has no return value.\\n\");\n",
        "    return; // This can be omitted.\n",
        "}\n",
        "\n",
        "int main() {\n",
        "    printMessage();\n",
        "    return 0; // Indicates success\n",
        "}\n"
      ],
      "metadata": {
        "colab": {
          "base_uri": "https://localhost:8080/"
        },
        "id": "0LvI-DJw9i_7",
        "outputId": "a5680fa5-6f8e-4f24-c79a-6d65fd0d3548"
      },
      "id": "0LvI-DJw9i_7",
      "execution_count": 39,
      "outputs": [
        {
          "output_type": "stream",
          "name": "stdout",
          "text": [
            "Overwriting return_behavior.c\n"
          ]
        }
      ]
    },
    {
      "cell_type": "code",
      "execution_count": 33,
      "metadata": {
        "colab": {
          "base_uri": "https://localhost:8080/"
        },
        "id": "3ffeb199",
        "outputId": "3af97b88-9e34-4112-e916-82a5422465dc"
      },
      "outputs": [
        {
          "output_type": "stream",
          "name": "stdout",
          "text": [
            "This function has no return value.\n"
          ]
        }
      ],
      "source": [
        "!gcc return_behavior.c -o return_behavior && ./return_behavior"
      ],
      "id": "3ffeb199"
    },
    {
      "cell_type": "markdown",
      "source": [
        "##3. Global and Local Variables\n",
        "\n",
        "Global variables are accessible throughout the program, while local variables exist only within a function.\n",
        "\n",
        "### Example: Global and Local Variables\n",
        "\n",
        "```c\n",
        "#include <stdio.h>\n",
        "\n",
        "int global_var = 10;  // Global variable\n",
        "\n",
        "void printVariables() {\n",
        "    int local_var = 5;  // Local variable\n",
        "    printf(\"Global: %d, Local: %d\\n\", global_var, local_var);\n",
        "}\n",
        "\n",
        "int main() {\n",
        "    printVariables();\n",
        "    return 0;\n",
        "}\n",
        "```\n",
        "\n",
        "**Exercise:** Modify the code to change the value of the global variable inside the function and observe what happens.\n"
      ],
      "metadata": {
        "id": "V1TVoban7qMs"
      },
      "id": "V1TVoban7qMs"
    },
    {
      "cell_type": "code",
      "source": [],
      "metadata": {
        "id": "mTO8YMnV-bX8"
      },
      "id": "mTO8YMnV-bX8",
      "execution_count": null,
      "outputs": []
    },
    {
      "cell_type": "markdown",
      "source": [
        "### **Example: Observing Variable Behavior**\n"
      ],
      "metadata": {
        "id": "ba5BWzKT-ZLj"
      },
      "id": "ba5BWzKT-ZLj"
    },
    {
      "cell_type": "code",
      "source": [
        "%%writefile CaseStudy3.c\n",
        "#include <stdio.h>\n",
        "\n",
        "void useLocal(void);     // function prototype\n",
        "void useStaticLocal(void); // function prototype\n",
        "void useGlobal(void);    // function prototype\n",
        "\n",
        "int x = 1; // global variable\n",
        "\n",
        "// function main begins program execution\n",
        "int main(void)\n",
        "{\n",
        "    int x = 5; // local variable to main\n",
        "\n",
        "    printf(\"local x in outer scope of main is %d\\n\", x);\n",
        "\n",
        "    { // start new scope\n",
        "        int x = 7; // local variable to new scope\n",
        "        printf(\"local x in inner scope of main is %d\\n\", x);\n",
        "    } // end new scope\n",
        "\n",
        "    printf(\"local x in outer scope of main is %d\\n\", x);\n",
        "\n",
        "    useLocal();      // useLocal has automatic local x\n",
        "    useStaticLocal(); // useStaticLocal has static local x\n",
        "    useGlobal();     // useGlobal uses global x\n",
        "    useLocal();      // useLocal reinitializes automatic local x\n",
        "    useStaticLocal(); // static local x retains its prior value\n",
        "    useGlobal();     // global x retains its value\n",
        "\n",
        "    printf(\"\\nlocal x in main is %d\\n\", x);\n",
        "} // end main\n",
        "\n",
        "// useLocal reinitializes local variable x during each call\n",
        "void useLocal(void)\n",
        "{\n",
        "    int x = 25; // initialized each time useLocal is called\n",
        "    printf(\"\\nlocal x in useLocal is %d after entering useLocal\\n\", x);\n",
        "    ++x;\n",
        "    printf(\"local x in useLocal is %d before exiting useLocal\\n\", x);\n",
        "} // end function useLocal\n",
        "\n",
        "// useStaticLocal initializes static local variable x only the first time\n",
        "// the function is called; value of x is saved between calls to this function\n",
        "void useStaticLocal(void)\n",
        "{\n",
        "    static int x = 50; // initialized once before program startup\n",
        "    printf(\"\\nlocal static x is %d on entering useStaticLocal\\n\", x);\n",
        "    ++x;\n",
        "    printf(\"local static x is %d on exiting useStaticLocal\\n\", x);\n",
        "} // end function useStaticLocal\n",
        "\n",
        "// function useGlobal modifies global variable x during each call\n",
        "void useGlobal(void)\n",
        "{\n",
        "    printf(\"\\nglobal x is %d on entering useGlobal\\n\", x);\n",
        "    x *= 10;\n",
        "    printf(\"global x is %d on exiting useGlobal\\n\", x);\n",
        "} // end function useGlobal\n"
      ],
      "metadata": {
        "colab": {
          "base_uri": "https://localhost:8080/"
        },
        "id": "uFAXN0Tf8vm3",
        "outputId": "80dab50f-3f19-47e6-d27a-9ea94f5348f6"
      },
      "id": "uFAXN0Tf8vm3",
      "execution_count": 22,
      "outputs": [
        {
          "output_type": "stream",
          "name": "stdout",
          "text": [
            "Writing CaseStudy3.c\n"
          ]
        }
      ]
    },
    {
      "cell_type": "code",
      "source": [
        "!gcc CaseStudy3.c\n",
        "\n",
        "!./a.out"
      ],
      "metadata": {
        "colab": {
          "base_uri": "https://localhost:8080/"
        },
        "id": "KoXQUDKe87zm",
        "outputId": "0250a637-7134-47bb-fd89-7bc6668af35f"
      },
      "id": "KoXQUDKe87zm",
      "execution_count": 23,
      "outputs": [
        {
          "output_type": "stream",
          "name": "stdout",
          "text": [
            "local x in outer scope of main is 5\n",
            "local x in inner scope of main is 7\n",
            "local x in outer scope of main is 5\n",
            "\n",
            "local x in useLocal is 25 after entering useLocal\n",
            "local x in useLocal is 26 before exiting useLocal\n",
            "\n",
            "local static x is 50 on entering useStaticLocal\n",
            "local static x is 51 on exiting useStaticLocal\n",
            "\n",
            "global x is 1 on entering useGlobal\n",
            "global x is 10 on exiting useGlobal\n",
            "\n",
            "local x in useLocal is 25 after entering useLocal\n",
            "local x in useLocal is 26 before exiting useLocal\n",
            "\n",
            "local static x is 51 on entering useStaticLocal\n",
            "local static x is 52 on exiting useStaticLocal\n",
            "\n",
            "global x is 10 on entering useGlobal\n",
            "global x is 100 on exiting useGlobal\n",
            "\n",
            "local x in main is 5\n"
          ]
        }
      ]
    },
    {
      "cell_type": "markdown",
      "source": [
        "### Observing Variable Behavior**\n",
        "\n",
        "Run the above code and notice:\n",
        "- The **local variable `x`** in `main` does not affect the `x` in `useLocal()`.\n",
        "- The **static local variable `x`** in `useStaticLocal()` **retains its value** between calls.\n",
        "- The **global variable `x`** is permanently modified and keeps changing between function calls.\n",
        "\n",
        "### **Key Takeaways:**\n",
        "1. **Local Variables** are created and destroyed each time a function is executed.\n",
        "2. **Static Local Variables** retain their values even after the function ends.\n",
        "3. **Global Variables** persist throughout the program and can be modified by any function.\n",
        "\n",
        "### **Exercise: Modify the Code**\n",
        "1. Change the global variable `x` to `int x = 100;` at the top. Run the program again.\n",
        "2. Modify `useStaticLocal()` so `x` starts at `10` instead of `50`. Run the program and observe."
      ],
      "metadata": {
        "id": "tkOstrQrECh0"
      },
      "id": "tkOstrQrECh0"
    },
    {
      "cell_type": "markdown",
      "source": [
        "\n",
        "## 4. Defining Your Own Functions\n",
        "\n",
        "Functions allow code reuse and modularity. Below is a simple function in C that calculates the square of a number.\n",
        "\n",
        "### Example: Squaring a number\n",
        "\n",
        "```c\n",
        "#include <stdio.h>\n",
        "\n",
        "// Function prototype\n",
        "int square(int num);\n",
        "\n",
        "int main() {\n",
        "    int x = 5;\n",
        "    printf(\"The square of %d is %d\\n\", x, square(x));\n",
        "    return 0;\n",
        "}\n",
        "\n",
        "// Function definition\n",
        "int square(int num) {\n",
        "    return num * num;\n",
        "}\n",
        "```\n"
      ],
      "metadata": {
        "id": "m1TdqA3B4Czi"
      },
      "id": "m1TdqA3B4Czi"
    },
    {
      "cell_type": "markdown",
      "source": [
        "\n",
        "###**Exercise:** Write a function to find the maximum of two numbers\n"
      ],
      "metadata": {
        "id": "2ohEOW6q-juj"
      },
      "id": "2ohEOW6q-juj"
    },
    {
      "cell_type": "code",
      "source": [
        "%%writefile function_findmax.c\n",
        "// write your code here\n",
        "\n",
        "#include <stdio.h>\n",
        "\n",
        "// Function to find the maximum of two numbers\n",
        "int max() {\n",
        "\n",
        "}\n",
        "\n",
        "int main() {\n",
        "    int num1 = 7, num2 = 12;\n",
        "\n",
        "\n",
        "    return 0;\n",
        "}\n"
      ],
      "metadata": {
        "colab": {
          "base_uri": "https://localhost:8080/"
        },
        "id": "LwT_5d0P4ZVz",
        "outputId": "01936d6c-a9ad-44f8-cb4d-d764d1693a20"
      },
      "id": "LwT_5d0P4ZVz",
      "execution_count": 18,
      "outputs": [
        {
          "output_type": "stream",
          "name": "stdout",
          "text": [
            "Writing function_findmax.c\n"
          ]
        }
      ]
    },
    {
      "cell_type": "code",
      "source": [
        "!gcc function_findcube.c\n",
        "\n",
        "!./a.out"
      ],
      "metadata": {
        "id": "InabYwF54kbl"
      },
      "id": "InabYwF54kbl",
      "execution_count": null,
      "outputs": []
    },
    {
      "cell_type": "code",
      "source": [],
      "metadata": {
        "id": "MqlYYrRJ4jKp"
      },
      "id": "MqlYYrRJ4jKp",
      "execution_count": null,
      "outputs": []
    },
    {
      "cell_type": "markdown",
      "id": "00d982ec",
      "metadata": {
        "id": "00d982ec"
      },
      "source": [
        "## 5. Formatting Numeric Output\n",
        "\n",
        "In C, format specifiers control how numbers are displayed using `printf`.\n",
        "\n",
        "If the number of characters displayed is less than the field width, then the value will automatically be right justfied in the field.\n",
        "\n",
        "To left justify a value in a field, place a - (minus sign) between the % and the field width.\n",
        "\n",
        "### **Example of `%21.2f`**\n",
        "- `21` → Sets the **field width** (the number of spaces the number takes).\n",
        "- `.2` → Sets the **precision** (number of decimal places).\n",
        "- `f` → Specifies **floating point format**.\n",
        "\n",
        "\n"
      ]
    },
    {
      "cell_type": "markdown",
      "source": [
        "### **Example of Formatting numeric output**"
      ],
      "metadata": {
        "id": "AWLLZyd8-4Dc"
      },
      "id": "AWLLZyd8-4Dc"
    },
    {
      "cell_type": "code",
      "execution_count": 34,
      "id": "04cd5a71",
      "metadata": {
        "colab": {
          "base_uri": "https://localhost:8080/"
        },
        "id": "04cd5a71",
        "outputId": "55c1d523-f6d0-47d2-fe39-0cfa4068d5e8"
      },
      "outputs": [
        {
          "output_type": "stream",
          "name": "stdout",
          "text": [
            "Writing formatting_example.c\n"
          ]
        }
      ],
      "source": [
        "%%writefile formatting_example.c\n",
        "#include <stdio.h>\n",
        "\n",
        "int main() {\n",
        "    double amount = 1234.5678;\n",
        "\n",
        "    printf(\"Right Justified: %21.2f\\n\", amount);\n",
        "    printf(\"Left Justified : %-21.2f\\n\", amount);\n",
        "\n",
        "    return 0;\n",
        "}\n"
      ]
    },
    {
      "cell_type": "code",
      "execution_count": 35,
      "id": "fb85fa3d",
      "metadata": {
        "colab": {
          "base_uri": "https://localhost:8080/"
        },
        "id": "fb85fa3d",
        "outputId": "a1527651-6286-4dee-bc2a-8372f8535f02"
      },
      "outputs": [
        {
          "output_type": "stream",
          "name": "stdout",
          "text": [
            "Right Justified:               1234.57\n",
            "Left Justified : 1234.57              \n"
          ]
        }
      ],
      "source": [
        "!gcc formatting_example.c -o formatting_example && ./formatting_example"
      ]
    },
    {
      "cell_type": "markdown",
      "id": "0643300a",
      "metadata": {
        "id": "0643300a"
      },
      "source": [
        "##More Examples 1. Square Function Using a Loop\n",
        "\n",
        "This program calculates the square of numbers from 1 to 10 using a function.\n"
      ]
    },
    {
      "cell_type": "code",
      "execution_count": null,
      "id": "5f17753d",
      "metadata": {
        "id": "5f17753d"
      },
      "outputs": [],
      "source": [
        "%%writefile square_function.c\n",
        "#include <stdio.h>\n",
        "\n",
        "// Function prototype\n",
        "int square(int y);\n",
        "\n",
        "int main() {\n",
        "    int x;\n",
        "    for (x = 1; x <= 10; ++x) {\n",
        "        printf(\"%d \", square(x));\n",
        "    }\n",
        "    printf(\"\\n\");\n",
        "    return 0;\n",
        "}\n",
        "\n",
        "int square(int y) {\n",
        "    return y * y;\n",
        "}\n"
      ]
    },
    {
      "cell_type": "code",
      "execution_count": null,
      "id": "eee2150c",
      "metadata": {
        "id": "eee2150c"
      },
      "outputs": [],
      "source": [
        "!gcc square_function.c -o square_function && ./square_function"
      ]
    },
    {
      "cell_type": "markdown",
      "id": "e7bb4d63",
      "metadata": {
        "id": "e7bb4d63"
      },
      "source": [
        "##More Examples 2. Finding the Maximum of Three Numbers\n",
        "\n",
        "\n",
        "\n",
        "\n",
        "This program reads three integers and finds the largest using a function.\n"
      ]
    },
    {
      "cell_type": "code",
      "execution_count": null,
      "id": "ae8b4315",
      "metadata": {
        "id": "ae8b4315"
      },
      "outputs": [],
      "source": [
        "%%writefile max_function.c\n",
        "#include <stdio.h>\n",
        "\n",
        "// Function prototype\n",
        "int maximum(int x, int y, int z);\n",
        "\n",
        "int main() {\n",
        "    int number1, number2, number3;\n",
        "\n",
        "    printf(\"Enter three integers: \");\n",
        "    scanf(\"%d%d%d\", &number1, &number2, &number3);\n",
        "\n",
        "    printf(\"Maximum is: %d\\n\", maximum(number1, number2, number3));\n",
        "    return 0;\n",
        "}\n",
        "\n",
        "int maximum(int x, int y, int z) {\n",
        "    int max = x;\n",
        "\n",
        "    if (y > max) {\n",
        "        max = y;\n",
        "    }\n",
        "    if (z > max) {\n",
        "        max = z;\n",
        "    }\n",
        "\n",
        "    return max;\n",
        "}\n"
      ]
    },
    {
      "cell_type": "code",
      "execution_count": null,
      "id": "323f8651",
      "metadata": {
        "id": "323f8651"
      },
      "outputs": [],
      "source": [
        "!gcc max_function.c -o max_function && ./max_function"
      ]
    }
  ],
  "metadata": {
    "colab": {
      "provenance": [],
      "toc_visible": true,
      "include_colab_link": true
    },
    "language_info": {
      "name": "python"
    },
    "kernelspec": {
      "name": "python3",
      "display_name": "Python 3"
    }
  },
  "nbformat": 4,
  "nbformat_minor": 5
}